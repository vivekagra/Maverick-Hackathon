{
 "cells": [
  {
   "cell_type": "code",
   "execution_count": 1,
   "metadata": {},
   "outputs": [],
   "source": [
    "import pytesseract\n",
    "from PIL import Image\n",
    "import pandas as pd\n",
    "import cv2 as cv"
   ]
  },
  {
   "cell_type": "code",
   "execution_count": 2,
   "metadata": {},
   "outputs": [],
   "source": [
    "# function to do skew correction in images\n",
    "def deskew(img):\n",
    "    img = cv2.Canny(img, 100, 200)\n",
    "    coords = np.column_stack(np.where(img > 0))\n",
    "    angle = cv2.minAreaRect(coords)[-1]\n",
    "    if angle < -45:\n",
    "        angle = -(90 + angle)\n",
    "    else:\n",
    "        angle = -angle\n",
    "    (h, w) = img.shape[:2]\n",
    "    center = (w // 2, h // 2)\n",
    "    M = cv2.getRotationMatrix2D(center, angle, 1.0)\n",
    "    rotated = cv2.warpAffine(img, M, (w, h), flags=cv2.INTER_CUBIC, borderMode=cv2.BORDER_REPLICATE)"
   ]
  },
  {
   "cell_type": "code",
   "execution_count": 3,
   "metadata": {},
   "outputs": [],
   "source": [
    "# function to do image processing on the image\n",
    "def img_processing(image):\n",
    "    img = cv2.resize(image, None, fx=1.5, fy=1.5, interpolation=cv2.INTER_CUBIC)\n",
    "    img = cv2.cvtColor(img, cv.COLOR_BGR2GRAY)\n",
    "    #kernel = np.ones((1, 1), np.uint8)\n",
    "    #img = cv2.dilate(img, kernel, iterations=1)\n",
    "    #img = cv2.erode(img, kernel, iterations=1)\n",
    "    img = cv.GaussianBlur(img, (9, 9), 0)\n",
    "    #img = cv.bilateralFilter(img,9,75,75)\n",
    "    #img = cv2.threshold(img, 0, 255, cv2.THRESH_BINARY + cv2.THRESH_OTSU)[1]\n",
    "    return img"
   ]
  },
  {
   "cell_type": "code",
   "execution_count": 4,
   "metadata": {},
   "outputs": [],
   "source": [
    "# function to find text in image\n",
    "def ocr(image):\n",
    "    text = pytesseract.image_to_string(image)\n",
    "    return text"
   ]
  },
  {
   "cell_type": "code",
   "execution_count": 5,
   "metadata": {},
   "outputs": [],
   "source": [
    "# function to check whether GSTIN is present or not in image\n",
    "def check_GSTIN(text):\n",
    "    flag1 = text.find('GSTIN')\n",
    "    if(flag1 > 0):\n",
    "        return flag1 +  6\n",
    "    \n",
    "    flag2 = text.find('STIN')\n",
    "    if(flag2 > 0):\n",
    "        return flag2  + 5\n",
    "    \n",
    "    return -1"
   ]
  },
  {
   "cell_type": "code",
   "execution_count": 6,
   "metadata": {},
   "outputs": [],
   "source": [
    "# function to find GST Number in image\n",
    "def GST_number(text,pos):\n",
    "    count = 0\n",
    "    number = []\n",
    "    while((text[pos+count].isdigit() == False) and count <10):\n",
    "        count+=1\n",
    "    if(text[pos+count].isdigit()):\n",
    "        if(text[pos+count-1].isalpha()):\n",
    "            count = count - 1\n",
    "            number = text[pos+count:pos+count+15]\n",
    "            \n",
    "    return number"
   ]
  },
  {
   "cell_type": "code",
   "execution_count": 7,
   "metadata": {},
   "outputs": [
    {
     "name": "stderr",
     "output_type": "stream",
     "text": [
      "D:\\users\\vivek\\Downloads\\Anaconda\\Anaconda\\lib\\site-packages\\ipykernel_launcher.py:24: SettingWithCopyWarning: \n",
      "A value is trying to be set on a copy of a slice from a DataFrame\n",
      "\n",
      "See the caveats in the documentation: http://pandas.pydata.org/pandas-docs/stable/user_guide/indexing.html#returning-a-view-versus-a-copy\n",
      "D:\\users\\vivek\\Downloads\\Anaconda\\Anaconda\\lib\\site-packages\\ipykernel_launcher.py:22: SettingWithCopyWarning: \n",
      "A value is trying to be set on a copy of a slice from a DataFrame\n",
      "\n",
      "See the caveats in the documentation: http://pandas.pydata.org/pandas-docs/stable/user_guide/indexing.html#returning-a-view-versus-a-copy\n"
     ]
    },
    {
     "name": "stdout",
     "output_type": "stream",
     "text": [
      "194\n"
     ]
    }
   ],
   "source": [
    "data = pd.read_csv('gst_labels_detected.csv')\n",
    "row,col = data.shape\n",
    "\n",
    "GSTIN_detected = 0\n",
    "\n",
    "for i in range(row):\n",
    "    img_name = data.iloc[i]['Name']\n",
    "    img_location = 'detected/' + img_name\n",
    "    #image = Image.open(img_location)\n",
    "    img = cv.imread(img_location)\n",
    "    \n",
    "    # Do processing on image\n",
    "    #processed_img = img_processing(image)\n",
    "    \n",
    "    # Find texts on image\n",
    "    text = ocr(img)\n",
    "    \n",
    "    # Check GSTIN is present or not\n",
    "    flag_GSTIN = check_GSTIN(text)\n",
    "    if(flag_GSTIN>=0):\n",
    "        GSTIN_detected += 1\n",
    "        data.iloc[i]['Label'] = 'GSTIN_Detected'\n",
    "    else:\n",
    "        data.iloc[i]['Label'] = 'GSTIN_Not_Detected'\n",
    "    \n",
    "    # If GSTIN detected find the number\n",
    "    #if(flag_GSTIN>=0):\n",
    "    #    gst_number = GST_number(text,flag_GSTIN)\n",
    "    #    data.iloc[i]['GST_Number'] = gst_number\n",
    "    #else:\n",
    "    #    data.iloc[i]['GST_Number'] = None\n",
    "    \n",
    "    # Display Image\n",
    "    #cv.imshow(img_name,img)\n",
    "    #cv.imshow('After Processing',processed_img)\n",
    "    #cv.waitKey(0)\n",
    "    #cv.destroyAllWindows()\n",
    "\n",
    "print(GSTIN_detected)"
   ]
  },
  {
   "cell_type": "code",
   "execution_count": null,
   "metadata": {},
   "outputs": [],
   "source": []
  }
 ],
 "metadata": {
  "kernelspec": {
   "display_name": "Python 3",
   "language": "python",
   "name": "python3"
  },
  "language_info": {
   "codemirror_mode": {
    "name": "ipython",
    "version": 3
   },
   "file_extension": ".py",
   "mimetype": "text/x-python",
   "name": "python",
   "nbconvert_exporter": "python",
   "pygments_lexer": "ipython3",
   "version": "3.7.4"
  }
 },
 "nbformat": 4,
 "nbformat_minor": 2
}
